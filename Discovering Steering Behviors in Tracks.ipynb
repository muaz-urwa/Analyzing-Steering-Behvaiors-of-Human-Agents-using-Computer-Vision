{
 "cells": [
  {
   "cell_type": "markdown",
   "metadata": {},
   "source": [
    "## This notebook does the following:\n",
    "- reads pedestrian tracks form a pickle object\n",
    "- chooses track pairs which co-existed in a video for more than 300 frames\n",
    "- smoothes the tracks to get rid of noise introduced by localization error in detection algorithm\n",
    "- Minmax normalize the tracks within a specified range\n",
    "- Calculates dicrete time displacement, velocity and acceleration vectors\n",
    "- Treats one track in pair as agent and other target to label the steering behavior based on these rules:\n",
    "    - If it is accelerating towards the target it is pursuit\n",
    "    - If it is accelerating away from the target but moving towards it then it is arrival\n",
    "    - It it is accelerating away from the target it is evasion\n",
    "    - In other cases it is wander\n",
    "- Animate the track pairs as particles in 2d space to understand their interaction\n",
    "- Add velocity, acceleration and steering label to animation\n",
    "- Save the gif animations to specified output directory"
   ]
  },
  {
   "cell_type": "code",
   "execution_count": 1,
   "metadata": {},
   "outputs": [],
   "source": [
    "import numpy as np\n",
    "import time\n",
    "import Person\n",
    "import random\n",
    "from matplotlib.widgets import RectangleSelector\n",
    "import matplotlib.patches as patches\n",
    "import cv2\n",
    "import os\n",
    "import matplotlib.pyplot as plt\n",
    "import pickle\n",
    "from sklearn.preprocessing import MinMaxScaler\n",
    "from scipy.signal import savgol_filter\n",
    "%matplotlib inline \n",
    "\n",
    "import imageio\n",
    "from IPython.display import HTML\n",
    "\n",
    "from sklearn.metrics.pairwise import cosine_similarity\n",
    "from sklearn.cluster import KMeans"
   ]
  },
  {
   "cell_type": "code",
   "execution_count": 2,
   "metadata": {},
   "outputs": [],
   "source": [
    "class Person:\n",
    "    tracks = []\n",
    "    def __init__(self, i, tl, br, f):\n",
    "        self.id = i\n",
    "        self.tl = tl\n",
    "        self.br = br\n",
    "        self.frameId = f\n",
    "        \n",
    "        self.tracks = []\n",
    "        self.frames = []\n",
    "        self.framesDet = []\n",
    "        \n",
    "        self.tracks.append((tl,br))\n",
    "        self.frames.append(f)\n",
    "        self.framesDet.append(True)\n",
    "\n",
    "        self.frameLost = 0\n",
    "        self.area = abs((self.br[0]-self.tl[0]) * (self.br[1]-self.tl[1]))\n",
    "        \n",
    "        self.active = True\n",
    "\n",
    "    def getTracks(self):\n",
    "        return self.tracks\n",
    "    def getId(self):\n",
    "        return self.id\n",
    "    def getFrameLost(self):\n",
    "        return self.frameLost\n",
    "    def getTl(self):\n",
    "        return self.tl\n",
    "    def getBr(self):\n",
    "        return self.br\n",
    "    def isActive(self):\n",
    "        return self.active\n",
    "    def getMid(self):\n",
    "        return ((self.tl[0]+ self.br[0])/2 , (self.tl[1]+ self.br[1])/2)\n",
    "    def getArea(self):\n",
    "        return self.area       \n",
    "    def deactivate(self):\n",
    "        self.active = False\n",
    "\n",
    "    def getPredictedOffset(self):#how are you predicting?\n",
    "        l = len(self.tracks)\n",
    "        if l <= 1:\n",
    "            return (0,0)\n",
    "        if l >= 3:\n",
    "            b=l-3\n",
    "        else:\n",
    "            b= l-2\n",
    "        b=0\n",
    "        p2 = cal_mid(self.tracks[l-1][0],self.tracks[l-1][1])\n",
    "        p1 = cal_mid(self.tracks[b][0],self.tracks[b][1])\n",
    "        \n",
    "        deltaX = (p2[0]-p1[0])/(l-b)\n",
    "        deltaY = (p2[1]-p1[1])/(l-b)\n",
    "        return (deltaX, deltaY)#changed\n",
    "    \n",
    "    def walk(self):\n",
    "        deltaX,deltaY = self.getPredictedOffset()\n",
    "        self.tl = (self.tl[0] + deltaX, self.tl[1] + deltaY)\n",
    "        self.br = (self.br[0] + deltaX, self.br[1] + deltaY)\n",
    "        self.frameId += 1\n",
    "        self.tracks.append((self.tl,self.br))\n",
    "        self.frames.append(self.frameId)\n",
    "        self.framesDet.append(False)\n",
    "        self.frameLost = self.frameLost+1\n",
    "        \n",
    "        if self.frameLost > 10:\n",
    "            self.deactivate()\n",
    "        \n",
    "    def matched(self, tl, br):       \n",
    "        self.tl = tl\n",
    "        self.br = br\n",
    "        self.tracks[len(self.tracks)-1] = (tl,br)\n",
    "        self.framesDet[len(self.framesDet)-1] = True\n",
    "        self.frameLost = 0\n"
   ]
  },
  {
   "cell_type": "code",
   "execution_count": 3,
   "metadata": {},
   "outputs": [],
   "source": [
    "def cal_distance(p1,p2):\n",
    "    return np.sqrt( (p2[0] - p1[0])**2 + (p2[1] - p1[1])**2 )\n",
    "\n",
    "def shift_point(point,shift):\n",
    "    return ( point[0] + shift[0], point[1] + shift[1] )\n",
    "\n",
    "def cal_mid(p1,p2):\n",
    "    return ((p1[0]+ p2[0])/2 , (p1[1]+ p2[1])/2)"
   ]
  },
  {
   "cell_type": "code",
   "execution_count": 4,
   "metadata": {},
   "outputs": [],
   "source": [
    "def plotTrack(person, h,w):\n",
    "    tracks = person.getTracks()\n",
    "    track_mids = [cal_mid(p1,p2) for p1,p2 in tracks]\n",
    "    track_x = [x for x,y in track_mids]\n",
    "    track_y = [y for x,y in track_mids]\n",
    "    plt.figure()\n",
    "    plt.xlim((0,640))\n",
    "    plt.ylim((0,352))\n",
    "    plt.plot(track_x,track_y)\n",
    "    plt.title(p.getId())"
   ]
  },
  {
   "cell_type": "code",
   "execution_count": 5,
   "metadata": {},
   "outputs": [],
   "source": [
    "def plotPair(tracks1,tracks2,h,w):\n",
    "    #tracks1 = person1.getTracks()\n",
    "    #track_mids1 = [cal_mid(p1,p2) for p1,p2 in tracks1]\n",
    "    track1_x = [x for x,y in tracks1]\n",
    "    track1_y = [y for x,y in tracks1]\n",
    "    #tracks2 = person2.getTracks()\n",
    "    #track_mids2 = [cal_mid(p1,p2) for p1,p2 in tracks2]\n",
    "    track2_x = [x for x,y in tracks2]\n",
    "    track2_y = [y for x,y in tracks2]\n",
    "    \n",
    "    plt.figure()\n",
    "    #plt.xlim((0,640))\n",
    "    #plt.ylim((0,352))\n",
    "    plt.plot(track1_x,track1_y,linewidth=2.0)\n",
    "    plt.plot(track2_x,track2_y,linewidth=2.0)\n",
    "    #plt.title(str(person1.getId()),\"--\",str(person2.getId()))"
   ]
  },
  {
   "cell_type": "code",
   "execution_count": 6,
   "metadata": {},
   "outputs": [],
   "source": [
    "def overlap(p1,p2,t):\n",
    "    f1 = set(p1.frames)\n",
    "    f2 = set(p2.frames)\n",
    "    return (len(f1.intersection(f2)) > t, list(f1.intersection(f2)) )"
   ]
  },
  {
   "cell_type": "code",
   "execution_count": 7,
   "metadata": {},
   "outputs": [],
   "source": [
    "def smoothTrack(tracks):\n",
    "    x = [x for x,y in tracks]\n",
    "    y = [y for x,y in tracks]\n",
    "    x = savgol_filter(x, 101, 1)\n",
    "    y = savgol_filter(y, 101, 1)\n",
    "    return list(zip(x,y))"
   ]
  },
  {
   "cell_type": "code",
   "execution_count": 138,
   "metadata": {},
   "outputs": [],
   "source": [
    "def minMaxTracks(tracks, minx, miny, maxx, maxy):\n",
    "    x = np.array([x for x,y in tracks])\n",
    "    y = np.array([y for x,y in tracks])\n",
    "    X_std = (x - minx) / (maxx - minx)\n",
    "    x = list(X_std * simWidth) \n",
    "    Y_std = (y - miny) / (maxy - miny)\n",
    "    y = list(Y_std * simHeight) \n",
    "    return list(zip(x,y))"
   ]
  },
  {
   "cell_type": "code",
   "execution_count": 139,
   "metadata": {},
   "outputs": [],
   "source": [
    "def minMaxPairs(pair):\n",
    "    t1 = pair[0]\n",
    "    t2 = pair[1]\n",
    "    x1 = np.array([x for x,y in t1])\n",
    "    x2 = np.array([x for x,y in t2])\n",
    "    minx = min(x1.min(),x2.min())\n",
    "    maxx =  max(x1.max(),x2.max())\n",
    "    y1 = np.array([y for x,y in t1])\n",
    "    y2 = np.array([y for x,y in t2])\n",
    "    miny = min(y1.min(),y2.min())\n",
    "    maxy =  max(y1.max(),y2.max())\n",
    "    return (minMaxTracks(t1,minx, miny, maxx, maxy),minMaxTracks(t2,minx, miny, maxx, maxy))"
   ]
  },
  {
   "cell_type": "code",
   "execution_count": 140,
   "metadata": {},
   "outputs": [],
   "source": [
    "def getPairs(persons, size=300):\n",
    "    pairs = []\n",
    "    for i in range(len(persons)):\n",
    "        for j in range(i+1,len(persons)):\n",
    "            ov = overlap(persons[i],persons[j],250)\n",
    "            if ov[0]:\n",
    "                t1 = [t for t,f in zip(persons[i].tracks,persons[i].frames) if f in ov[1]]\n",
    "                t2 = [t for t,f in zip(persons[j].tracks,persons[j].frames) if f in ov[1]]\n",
    "                track_mids1 = [cal_mid(p1,p2) for p1,p2 in t1]\n",
    "                track_mids2 = [cal_mid(p1,p2) for p1,p2 in t2]\n",
    "                pairs.append((track_mids1,track_mids2))\n",
    "    # smooth pairs\n",
    "    pairs = [(smoothTrack(t1),smoothTrack(t2)) for t1,t2 in pairs]\n",
    "    # trim size\n",
    "    pairs = [(t1[:size], t2[:size]) for t1,t2 in pairs]\n",
    "    # smooth pairs\n",
    "    pairs = [minMaxPairs((t1,t2)) for t1,t2 in pairs]\n",
    "    return pairs"
   ]
  },
  {
   "cell_type": "code",
   "execution_count": 141,
   "metadata": {},
   "outputs": [],
   "source": [
    "def saveGifs(pairs, gifDirectory):\n",
    "    #gifDirectory = 'data/gifs/street1/6/'\n",
    "    for k in range(len(pairs)):\n",
    "        t1,t2 = pairs[k]\n",
    "        x1 = np.array([x for x,y in t1]).astype(int)\n",
    "        y1 = np.array([y for x,y in t1]).astype(int)\n",
    "        x2 = np.array([x for x,y in t2]).astype(int)\n",
    "        y2 = np.array([y for x,y in t2]).astype(int)\n",
    "        images = []\n",
    "        for i in range(len(x1)):\n",
    "            img = np.zeros((100,200,3), np.uint8)\n",
    "            cv2.circle(img,(x1[i],y1[i]), 10, (0,0,255), -1)\n",
    "            cv2.circle(img,(x2[i],y2[i]), 20, (0,255,0), -1)\n",
    "            for j in range(i):\n",
    "                cv2.line(img,(x1[j],y1[j]),(x1[j+1],y1[j+1]),(0,0,255),3)\n",
    "                cv2.line(img,(x2[j],y2[j]),(x2[j+1],y2[j+1]),(0,255,0),3)\n",
    "            images.append(img)\n",
    "        fps = int(len(x1)/5)\n",
    "        imageio.mimsave(gifDirectory+str(k)+'.gif', images, fps=fps)"
   ]
  },
  {
   "cell_type": "code",
   "execution_count": 142,
   "metadata": {},
   "outputs": [],
   "source": [
    "def getDisplacement(pair):\n",
    "    t1 = np.array(pair[0])\n",
    "    t2 = np.array(pair[1])\n",
    "    return t2-t1"
   ]
  },
  {
   "cell_type": "code",
   "execution_count": 143,
   "metadata": {},
   "outputs": [],
   "source": [
    "def getAcceleration(pair, index=0):\n",
    "    t = np.array(pair[0])\n",
    "    return np.diff(np.diff(t,axis=0), axis=0)"
   ]
  },
  {
   "cell_type": "code",
   "execution_count": 144,
   "metadata": {},
   "outputs": [],
   "source": [
    "def getVelocity(pair, index=0):\n",
    "    t = np.array(pair[0])\n",
    "    return np.diff(t,axis=0)"
   ]
  },
  {
   "cell_type": "code",
   "execution_count": 145,
   "metadata": {},
   "outputs": [],
   "source": [
    "import math\n",
    "\n",
    "def dotproduct(v1, v2):\n",
    "    return sum((a*b) for a, b in zip(v1, v2))\n",
    "\n",
    "def length(v):\n",
    "    return math.sqrt(dotproduct(v, v))\n",
    "\n",
    "def cosangle(v1, v2):\n",
    "    return acos(dotproduct(v1, v2) / (length(v1) * length(v2)))"
   ]
  },
  {
   "cell_type": "code",
   "execution_count": 146,
   "metadata": {},
   "outputs": [],
   "source": [
    "def getLabel(vel,acc):\n",
    "    va = math.atan(vel[1]/vel[0])\n",
    "    aa = math.atan(acc[1]/acc[0])\n",
    "    \n",
    "    if(aa >-math.pi/6 and aa<math.pi/6):\n",
    "        if acc[0] > 0:\n",
    "            return 'P'\n",
    "        elif acc[0] < 0:\n",
    "            if (va >-math.pi/6 and va<math.pi/6 and vel[0] > 0):\n",
    "                return 'A'\n",
    "            else:\n",
    "                return 'E'\n",
    "        return 'P'\n",
    "   # elif (aa > math.pi-math.pi/6 and aa<math.pi+math.pi/6):\n",
    "   #     if (va >-math.pi/6 and va<math.pi/6):\n",
    "   #         return 'A'\n",
    "   #     else:\n",
    "   #         return 'E'\n",
    "    else:\n",
    "        return 'W'"
   ]
  },
  {
   "cell_type": "code",
   "execution_count": 149,
   "metadata": {},
   "outputs": [],
   "source": [
    "height,width = (352, 640)"
   ]
  },
  {
   "cell_type": "code",
   "execution_count": 169,
   "metadata": {},
   "outputs": [],
   "source": [
    "simHeight,simWidth = (int(200),int(400))"
   ]
  },
  {
   "cell_type": "code",
   "execution_count": 179,
   "metadata": {},
   "outputs": [],
   "source": [
    "def saveGifsVec(data, gifDirectory):\n",
    "    #gifDirectory = 'data/gifs/street1/6/'\n",
    "    \n",
    "    for k in range(len(data)): \n",
    "        \n",
    "        acc = data[k]['acc']\n",
    "        dis = data[k]['dis']\n",
    "        vel = data[k]['vel']        \n",
    "        \n",
    "        t1,t2 = data[k]['tracks']\n",
    "        t1 = t1[:len(acc)]\n",
    "        t2 = t2[:len(acc)]\n",
    "        x1 = np.array([x for x,y in t1]).astype(int)\n",
    "        y1 = np.array([y for x,y in t1]).astype(int)\n",
    "        x2 = np.array([x for x,y in t2]).astype(int)\n",
    "        y2 = np.array([y for x,y in t2]).astype(int)\n",
    "        \n",
    "        font = cv2.FONT_HERSHEY_SIMPLEX\n",
    "        bottomLeftCornerOfText = (int(simWidth+5),int(simHeight-5))\n",
    "        fontScale = 1\n",
    "        fontColor = (0,0,0)\n",
    "        lineType = 2\n",
    "        \n",
    "        images = []\n",
    "        for i in range(len(x1)):\n",
    "            img = np.zeros((simHeight,simWidth,3), np.uint8)\n",
    "            white = np.ones((simHeight,int(simWidth/2),3), np.uint8) * 255\n",
    "            img = np.concatenate((img,white),axis=1)\n",
    "            \n",
    "            cv2.circle(img,(x1[i],y1[i]), 10, (0,0,255), -1)\n",
    "            cv2.circle(img,(x2[i],y2[i]), 20, (0,255,0), -1)\n",
    "            for j in range(i):\n",
    "                cv2.line(img,(x1[j],y1[j]),(x1[j+1],y1[j+1]),(0,0,255),3)\n",
    "                cv2.line(img,(x2[j],y2[j]),(x2[j+1],y2[j+1]),(0,255,0),3)\n",
    "            \n",
    "            cv2.circle(img,(int(simWidth + simWidth/4),int(simHeight/2)), 5, (0,0,255), -1)\n",
    "            cv2.circle(img,(int(simWidth + simWidth/2 - 10),int(simHeight/2)), 10, (0,255,0), -1)\n",
    "            \n",
    "            dx = dis[i] / length(dis[i])\n",
    "            dy = np.array([dx[1],-dx[0]])\n",
    "            \n",
    "            \n",
    "            vel_ = np.array([dotproduct(vel[i],dx),dotproduct(vel[i],dy)])\n",
    "            acc_ = np.array([dotproduct(acc[i],dx),dotproduct(acc[i],dy)])\n",
    "            \n",
    "            if length(vel_) > 0:\n",
    "                vel_ = (vel_ / length(vel_)) * 60\n",
    "                cv2.arrowedLine(img,(int(simWidth + simWidth/4),int(simHeight/2)),(int(simWidth + simWidth/4+int(vel_[0])),int(simHeight/2-int(vel_[1]))),(255,0,255),2,tipLength=0.3)\n",
    "            if length(acc_) > 0:\n",
    "                acc_ = (acc_ / length(acc_)) * 60\n",
    "                cv2.arrowedLine(img,(int(simWidth + simWidth/4),int(simHeight/2)),(int(simWidth + simWidth/4+int(acc_[0])),int(simHeight/2-int(acc_[1]))),(0,255,255),2,tipLength=0.3)\n",
    "            \n",
    "            label = getLabel(vel_,acc_)\n",
    "            cv2.putText(img,label, bottomLeftCornerOfText, font, fontScale,fontColor,lineType)\n",
    "            \n",
    "            images.append(img)\n",
    "        fps = int(len(x1)/5)\n",
    "        imageio.mimsave(gifDirectory+str(k)+'.gif', images, fps=1)"
   ]
  },
  {
   "cell_type": "code",
   "execution_count": 183,
   "metadata": {},
   "outputs": [],
   "source": [
    "def samplePair(pair, rate=10):\n",
    "    return [t[0::15] for t in pair]"
   ]
  },
  {
   "cell_type": "code",
   "execution_count": 184,
   "metadata": {},
   "outputs": [],
   "source": [
    "def getVectors(p):\n",
    "    dis = getDisplacement(p) \n",
    "    vel = getVelocity(p)\n",
    "    acc = getAcceleration(p)\n",
    "    dis = dis[:len(acc)]\n",
    "    vel = vel[:len(acc)]\n",
    "    d = {'tracks':p,'dis':dis,'vel':vel,'acc':acc}\n",
    "    return d"
   ]
  },
  {
   "cell_type": "code",
   "execution_count": 187,
   "metadata": {},
   "outputs": [
    {
     "name": "stdout",
     "output_type": "stream",
     "text": [
      "1\n"
     ]
    },
    {
     "name": "stderr",
     "output_type": "stream",
     "text": [
      "/home/urwa/miniconda3/envs/yolo/lib/python3.6/site-packages/ipykernel_launcher.py:3: RuntimeWarning: invalid value encountered in double_scalars\n",
      "  This is separate from the ipykernel package so we can avoid doing imports until\n"
     ]
    },
    {
     "name": "stdout",
     "output_type": "stream",
     "text": [
      "2\n",
      "3\n",
      "4\n",
      "5\n",
      "6\n",
      "7\n",
      "8\n"
     ]
    }
   ],
   "source": [
    "direc = 'data/gifs/vectorGifs/'\n",
    "for i in range(1,9):\n",
    "    print(i)\n",
    "    with open('street_'+str(i)+'.pkl', 'rb') as input:\n",
    "        persons = pickle.load(input)\n",
    "    pairs = getPairs(persons)\n",
    "    pairs = [samplePair(p) for p in pairs]\n",
    "    data = [getVectors(p) for p in pairs]\n",
    "    saveGifsVec(data, gifDirectory= direc +str(i)+'/')"
   ]
  },
  {
   "cell_type": "code",
   "execution_count": null,
   "metadata": {},
   "outputs": [],
   "source": []
  }
 ],
 "metadata": {
  "kernelspec": {
   "display_name": "Python 3",
   "language": "python",
   "name": "python3"
  },
  "language_info": {
   "codemirror_mode": {
    "name": "ipython",
    "version": 3
   },
   "file_extension": ".py",
   "mimetype": "text/x-python",
   "name": "python",
   "nbconvert_exporter": "python",
   "pygments_lexer": "ipython3",
   "version": "3.6.7"
  }
 },
 "nbformat": 4,
 "nbformat_minor": 2
}
